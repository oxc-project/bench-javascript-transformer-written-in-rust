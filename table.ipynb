{
 "cells": [
  {
   "cell_type": "markdown",
   "metadata": {},
   "source": [
    "# Transpiler Benchmarks\n",
    "\n",
    "This notebook takes benchmark results and plots them.\n",
    "\n",
    "## Dependencies\n",
    "You'll need a valid rust installation, `node` and `pnpm` installed. You can get\n",
    "`pnpm` by running `corepack enable`.\n",
    "\n",
    "You'll also need the following pythong dependencies:\n",
    "- `pandas`\n",
    "- `matplotlib`\n",
    "- `numpy`\n",
    "\n",
    "\n",
    "\n",
    "## Instructions\n",
    "Before running this notebook, run the benchmarks by running\n",
    "```sh\n",
    "cargo run\n",
    "```\n",
    "Then, start a Jupyter Notebook session, open this notebook, and click the `Run All` button."
   ]
  },
  {
   "cell_type": "code",
   "execution_count": 1,
   "metadata": {},
   "outputs": [
    {
     "name": "stdout",
     "output_type": "stream",
     "text": [
      "Lockfile is up to date, resolution step is skipped\n",
      "Already up to date\n",
      "Done in 234ms\n",
      "\n",
      "> bench-javascript-transformer-written-in-rust@1.0.0 table /Users/donisaac/Documents/projects/experiments/rust-workspace/oxc/bench-javascript-transformer-written-in-rust\n",
      "> node table.mjs \"--format\" \"csv\" \"--output\" \"transpiler-benchmark.csv\"\n",
      "\n",
      "(node:88324) ExperimentalWarning: Importing JSON modules is an experimental feature and might change at any time\n",
      "(Use `node --trace-warnings ...` to show where the warning was created)\n",
      "Saved table to transpiler-benchmark.csv\n"
     ]
    }
   ],
   "source": [
    "# Build a CSV file containing the benchmark data\n",
    "!pnpm install\n",
    "!pnpm table --format csv --output transpiler-benchmark.csv"
   ]
  },
  {
   "cell_type": "code",
   "execution_count": 2,
   "metadata": {},
   "outputs": [],
   "source": [
    "import pandas as pd\n",
    "import matplotlib.pyplot as plt\n",
    "import numpy as np"
   ]
  },
  {
   "cell_type": "code",
   "execution_count": 3,
   "metadata": {},
   "outputs": [
    {
     "data": {
      "text/html": [
       "<div>\n",
       "<style scoped>\n",
       "    .dataframe tbody tr th:only-of-type {\n",
       "        vertical-align: middle;\n",
       "    }\n",
       "\n",
       "    .dataframe tbody tr th {\n",
       "        vertical-align: top;\n",
       "    }\n",
       "\n",
       "    .dataframe thead th {\n",
       "        text-align: right;\n",
       "    }\n",
       "</style>\n",
       "<table border=\"1\" class=\"dataframe\">\n",
       "  <thead>\n",
       "    <tr style=\"text-align: right;\">\n",
       "      <th></th>\n",
       "      <th>group</th>\n",
       "      <th>bench_name</th>\n",
       "      <th>tool</th>\n",
       "      <th>measurement</th>\n",
       "      <th>duration_ms</th>\n",
       "    </tr>\n",
       "  </thead>\n",
       "  <tbody>\n",
       "    <tr>\n",
       "      <th>0</th>\n",
       "      <td>cal.com.tsx</td>\n",
       "      <td>no-drop</td>\n",
       "      <td>oxc</td>\n",
       "      <td>duration</td>\n",
       "      <td>11.722207</td>\n",
       "    </tr>\n",
       "    <tr>\n",
       "      <th>1</th>\n",
       "      <td>cal.com.tsx</td>\n",
       "      <td>parallel</td>\n",
       "      <td>oxc</td>\n",
       "      <td>duration</td>\n",
       "      <td>22.114581</td>\n",
       "    </tr>\n",
       "    <tr>\n",
       "      <th>2</th>\n",
       "      <td>cal.com.tsx</td>\n",
       "      <td>single-thread</td>\n",
       "      <td>oxc</td>\n",
       "      <td>duration</td>\n",
       "      <td>11.723582</td>\n",
       "    </tr>\n",
       "    <tr>\n",
       "      <th>3</th>\n",
       "      <td>cal.com.tsx</td>\n",
       "      <td>no-drop</td>\n",
       "      <td>swc</td>\n",
       "      <td>duration</td>\n",
       "      <td>34.366857</td>\n",
       "    </tr>\n",
       "    <tr>\n",
       "      <th>4</th>\n",
       "      <td>cal.com.tsx</td>\n",
       "      <td>parallel</td>\n",
       "      <td>swc</td>\n",
       "      <td>duration</td>\n",
       "      <td>69.552646</td>\n",
       "    </tr>\n",
       "  </tbody>\n",
       "</table>\n",
       "</div>"
      ],
      "text/plain": [
       "         group     bench_name tool measurement  duration_ms\n",
       "0  cal.com.tsx        no-drop  oxc    duration    11.722207\n",
       "1  cal.com.tsx       parallel  oxc    duration    22.114581\n",
       "2  cal.com.tsx  single-thread  oxc    duration    11.723582\n",
       "3  cal.com.tsx        no-drop  swc    duration    34.366857\n",
       "4  cal.com.tsx       parallel  swc    duration    69.552646"
      ]
     },
     "execution_count": 3,
     "metadata": {},
     "output_type": "execute_result"
    }
   ],
   "source": [
    "# load benchmark data into a pandas dataframe\n",
    "df = pd.read_csv('transpiler-benchmark.csv')\n",
    "df.head()"
   ]
  },
  {
   "cell_type": "code",
   "execution_count": 4,
   "metadata": {},
   "outputs": [
    {
     "data": {
      "text/html": [
       "<div>\n",
       "<style scoped>\n",
       "    .dataframe tbody tr th:only-of-type {\n",
       "        vertical-align: middle;\n",
       "    }\n",
       "\n",
       "    .dataframe tbody tr th {\n",
       "        vertical-align: top;\n",
       "    }\n",
       "\n",
       "    .dataframe thead th {\n",
       "        text-align: right;\n",
       "    }\n",
       "</style>\n",
       "<table border=\"1\" class=\"dataframe\">\n",
       "  <thead>\n",
       "    <tr style=\"text-align: right;\">\n",
       "      <th></th>\n",
       "      <th>group</th>\n",
       "      <th>bench_name</th>\n",
       "      <th>tool</th>\n",
       "      <th>duration_ms</th>\n",
       "    </tr>\n",
       "  </thead>\n",
       "  <tbody>\n",
       "    <tr>\n",
       "      <th>0</th>\n",
       "      <td>cal.com.tsx</td>\n",
       "      <td>no-drop</td>\n",
       "      <td>oxc</td>\n",
       "      <td>11.722207</td>\n",
       "    </tr>\n",
       "    <tr>\n",
       "      <th>1</th>\n",
       "      <td>cal.com.tsx</td>\n",
       "      <td>parallel</td>\n",
       "      <td>oxc</td>\n",
       "      <td>22.114581</td>\n",
       "    </tr>\n",
       "    <tr>\n",
       "      <th>2</th>\n",
       "      <td>cal.com.tsx</td>\n",
       "      <td>single-thread</td>\n",
       "      <td>oxc</td>\n",
       "      <td>11.723582</td>\n",
       "    </tr>\n",
       "    <tr>\n",
       "      <th>3</th>\n",
       "      <td>cal.com.tsx</td>\n",
       "      <td>no-drop</td>\n",
       "      <td>swc</td>\n",
       "      <td>34.366857</td>\n",
       "    </tr>\n",
       "    <tr>\n",
       "      <th>4</th>\n",
       "      <td>cal.com.tsx</td>\n",
       "      <td>parallel</td>\n",
       "      <td>swc</td>\n",
       "      <td>69.552646</td>\n",
       "    </tr>\n",
       "  </tbody>\n",
       "</table>\n",
       "</div>"
      ],
      "text/plain": [
       "         group     bench_name tool  duration_ms\n",
       "0  cal.com.tsx        no-drop  oxc    11.722207\n",
       "1  cal.com.tsx       parallel  oxc    22.114581\n",
       "2  cal.com.tsx  single-thread  oxc    11.723582\n",
       "3  cal.com.tsx        no-drop  swc    34.366857\n",
       "4  cal.com.tsx       parallel  swc    69.552646"
      ]
     },
     "execution_count": 4,
     "metadata": {},
     "output_type": "execute_result"
    }
   ],
   "source": [
    "# drop measurement column. It's always \"duration\" for now.\n",
    "df = df.drop(columns=['measurement'])\n",
    "\n",
    "# make duration_ms a numeric column\n",
    "df['duration_ms'] = pd.to_numeric(df['duration_ms'])\n",
    "\n",
    "# make bench_name, group, and tool categorical columns\n",
    "df['bench_name'] = df['bench_name'].astype('category')\n",
    "df['group'] = df['group'].astype('category')\n",
    "df['tool'] = df['tool'].astype('category')\n",
    "\n",
    "df.head()"
   ]
  },
  {
   "cell_type": "code",
   "execution_count": 5,
   "metadata": {},
   "outputs": [
    {
     "data": {
      "text/plain": [
       "group\n",
       "cal.com.tsx       15.186790\n",
       "typescript.js    102.910927\n",
       "Name: duration_ms, dtype: float64"
      ]
     },
     "execution_count": 5,
     "metadata": {},
     "output_type": "execute_result"
    }
   ],
   "source": [
    "x_axis = df['group'].unique()\n",
    "\n",
    "# average duration over bench_name where tool='oxc'\n",
    "oxc_results = df[df['tool'] == 'oxc'].groupby(['group'])['duration_ms'].mean()\n",
    "# same for swc\n",
    "swc_results = df[df['tool'] == 'swc'].groupby(['group'])['duration_ms'].mean()\n",
    "\n",
    "oxc_results"
   ]
  },
  {
   "cell_type": "code",
   "execution_count": 7,
   "metadata": {},
   "outputs": [
    {
     "name": "stderr",
     "output_type": "stream",
     "text": [
      "findfont: Font family ['OpenSans'] not found. Falling back to DejaVu Sans.\n",
      "findfont: Font family ['OpenSans'] not found. Falling back to DejaVu Sans.\n"
     ]
    },
    {
     "data": {
      "image/png": "[encoded data removed]",
      "text/plain": [
       "<Figure size 1008x576 with 1 Axes>"
      ]
     },
     "metadata": {
      "needs_background": "dark"
     },
     "output_type": "display_data"
    }
   ],
   "source": [
    "# Configure MPL to make the plot look nice\n",
    "plt.rc('font', family='OpenSans', size=16)\n",
    "\n",
    "# Configures label/title/etc. colors. Set to False for light mode\n",
    "dark_mode = True\n",
    "color = 'white' if dark_mode else 'black'\n",
    "\n",
    "fig, ax = plt.subplots()\n",
    "fig.set_size_inches(14, 8)\n",
    "width = 0.2\n",
    "y_pos = np.arange(len(x_axis))\n",
    "\n",
    "bar1 = ax.barh(y_pos - width/2, oxc_results, width, label='oxc')\n",
    "bar2 = ax.barh(y_pos + width/2, swc_results, width, label='swc')\n",
    "\n",
    "# add labels\n",
    "# our slides are dark, so we need to invert label/title/etc colors\n",
    "ax.set_xlabel('Duration (ms)', color=color)\n",
    "ax.set_ylabel('Transpiled File Name', color=color)\n",
    "ax.set_title('Transpiler Performance (Apple M1 Macbook Pro)', color=color)\n",
    "ax.set_yticks(y_pos)\n",
    "ax.set_yticklabels(x_axis)\n",
    "\n",
    "# Set label and tick colors\n",
    "for axis in [ax.xaxis, ax.yaxis]:\n",
    "    axis.label.set_color(color)\n",
    "    axis.set_tick_params(labelcolor=color)\n",
    "\n",
    "# Add light grey vertical bars. Make sure they don't cross over the bars\n",
    "# themselves\n",
    "ax.set_axisbelow(True)\n",
    "ax.xaxis.grid(True, color=\"#CCCCCC\")\n",
    "\n",
    "ax.legend()\n",
    "\n",
    "plt.show()"
   ]
  }
 ],
 "metadata": {
  "kernelspec": {
   "display_name": "Python 3",
   "language": "python",
   "name": "python3"
  },
  "language_info": {
   "codemirror_mode": {
    "name": "ipython",
    "version": 3
   },
   "file_extension": ".py",
   "mimetype": "text/x-python",
   "name": "python",
   "nbconvert_exporter": "python",
   "pygments_lexer": "ipython3",
   "version": "3.9.9"
  }
 },
 "nbformat": 4,
 "nbformat_minor": 2
}
